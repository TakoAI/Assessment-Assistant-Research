{
 "cells": [
  {
   "cell_type": "markdown",
   "id": "3e82d678-76d5-4fa9-9819-2d834b57a27e",
   "metadata": {},
   "source": [
    "# Model Training Evaluation\n",
    "\n",
    "Use differenet algorithms to train testing models to evaluate different feature compositions.\n",
    "\n",
    " - With BBox/Segmentation Size Ratio, Number of Targets\n",
    " - With ResNet Features\n",
    " - With Unsupervised Features\n",
    " - With Human Impression\n"
   ]
  },
  {
   "cell_type": "code",
   "execution_count": null,
   "id": "4b128f1e-a982-4b3c-9798-71e753a44188",
   "metadata": {},
   "outputs": [],
   "source": []
  }
 ],
 "metadata": {
  "kernelspec": {
   "display_name": "Python 3 (ipykernel)",
   "language": "python",
   "name": "python3"
  },
  "language_info": {
   "codemirror_mode": {
    "name": "ipython",
    "version": 3
   },
   "file_extension": ".py",
   "mimetype": "text/x-python",
   "name": "python",
   "nbconvert_exporter": "python",
   "pygments_lexer": "ipython3",
   "version": "3.9.12"
  }
 },
 "nbformat": 4,
 "nbformat_minor": 5
}
