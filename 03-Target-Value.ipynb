{
 "cells": [
  {
   "cell_type": "markdown",
   "id": "317827c0",
   "metadata": {},
   "source": [
    "# Target Value\n",
    "\n",
    "Apply the pre-trained object detection model to all MSCOCO data and acquire the follow values:\n",
    "\n",
    " - Classification false positive\n",
    " - Classification false negative\n",
    " - Area of Coverage\n"
   ]
  },
  {
   "cell_type": "code",
   "execution_count": null,
   "id": "e1083332",
   "metadata": {},
   "outputs": [],
   "source": []
  }
 ],
 "metadata": {
  "kernelspec": {
   "display_name": "conda_python3",
   "language": "python",
   "name": "conda_python3"
  },
  "language_info": {
   "codemirror_mode": {
    "name": "ipython",
    "version": 3
   },
   "file_extension": ".py",
   "mimetype": "text/x-python",
   "name": "python",
   "nbconvert_exporter": "python",
   "pygments_lexer": "ipython3",
   "version": "3.8.12"
  }
 },
 "nbformat": 4,
 "nbformat_minor": 5
}
