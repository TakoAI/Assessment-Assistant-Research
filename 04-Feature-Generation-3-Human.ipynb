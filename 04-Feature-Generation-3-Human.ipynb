{
 "cells": [
  {
   "cell_type": "markdown",
   "id": "c53eb1b9-1aa4-4044-ab1c-ff088f8fcedf",
   "metadata": {},
   "source": [
    "# Feature Generation - Human\n",
    "\n",
    "Human Impression\n",
    "\n",
    " - Does the target has multiple color composition (Yes/No)\n",
    " - Does the target has multiple color variation (Yes/No)\n",
    " - Can there have multiple targets in an image (Yes/No)\n",
    " - Is there similar non-target objects in an image (Yes/No)"
   ]
  },
  {
   "cell_type": "code",
   "execution_count": null,
   "id": "f92c4ff1-a477-4839-bd8e-e150db0add3d",
   "metadata": {},
   "outputs": [],
   "source": []
  }
 ],
 "metadata": {
  "kernelspec": {
   "display_name": "Python 3 (ipykernel)",
   "language": "python",
   "name": "python3"
  },
  "language_info": {
   "codemirror_mode": {
    "name": "ipython",
    "version": 3
   },
   "file_extension": ".py",
   "mimetype": "text/x-python",
   "name": "python",
   "nbconvert_exporter": "python",
   "pygments_lexer": "ipython3",
   "version": "3.9.12"
  }
 },
 "nbformat": 4,
 "nbformat_minor": 5
}
