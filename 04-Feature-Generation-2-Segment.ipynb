{
 "cells": [
  {
   "cell_type": "markdown",
   "id": "de4a90d2-19be-47cf-b544-dcadc1825049",
   "metadata": {},
   "source": [
    "# Feature Generation - Segmentation\n",
    "\n",
    "After unsupervised decomposition\n",
    "\n",
    " - Number of color composition\n",
    " - Color variation across images\n",
    " - Color difference to nearby background\n",
    " - Similar color composition and size in the background\n",
    "\n"
   ]
  },
  {
   "cell_type": "code",
   "execution_count": null,
   "id": "2a534c2a-c83b-4072-b255-adde5ddf1651",
   "metadata": {},
   "outputs": [],
   "source": []
  }
 ],
 "metadata": {
  "kernelspec": {
   "display_name": "Python 3 (ipykernel)",
   "language": "python",
   "name": "python3"
  },
  "language_info": {
   "codemirror_mode": {
    "name": "ipython",
    "version": 3
   },
   "file_extension": ".py",
   "mimetype": "text/x-python",
   "name": "python",
   "nbconvert_exporter": "python",
   "pygments_lexer": "ipython3",
   "version": "3.9.12"
  }
 },
 "nbformat": 4,
 "nbformat_minor": 5
}
