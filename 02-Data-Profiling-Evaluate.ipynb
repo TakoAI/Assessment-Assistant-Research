{
 "cells": [
  {
   "cell_type": "markdown",
   "id": "0f332c68",
   "metadata": {},
   "source": [
    "# Data Profiling Evaluate\n",
    "\n",
    "Find a pre-trained PyTorch object detection model to run through the sample images."
   ]
  },
  {
   "cell_type": "code",
   "execution_count": null,
   "id": "e361ac9c",
   "metadata": {},
   "outputs": [],
   "source": []
  }
 ],
 "metadata": {
  "kernelspec": {
   "display_name": "conda_python3",
   "language": "python",
   "name": "conda_python3"
  },
  "language_info": {
   "codemirror_mode": {
    "name": "ipython",
    "version": 3
   },
   "file_extension": ".py",
   "mimetype": "text/x-python",
   "name": "python",
   "nbconvert_exporter": "python",
   "pygments_lexer": "ipython3",
   "version": "3.8.12"
  }
 },
 "nbformat": 4,
 "nbformat_minor": 5
}
