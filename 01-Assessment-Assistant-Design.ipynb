{
 "cells": [
  {
   "cell_type": "markdown",
   "id": "90248164",
   "metadata": {
    "tags": []
   },
   "source": [
    "# Assessment Assistant\n",
    "\n",
    "We are going to design an assessment assistant to evaluate the difficulty of doing a ML project.\n",
    "\n",
    "Before doing a ML project, we often use these information to evaluate the difficulty:\n",
    "\n",
    "1. Target size in the images\n",
    "2. Number of Targets in the images\n",
    "3. Target color composition\n",
    "4. Target color variation\n",
    "5. Background and Target color difference\n",
    "6. Existing similar objects in the images\n",
    "7. Sample images with labels\n",
    "\n",
    "This assistant will take these information and return a difficulty score.\n"
   ]
  },
  {
   "cell_type": "markdown",
   "id": "c09f61c9",
   "metadata": {
    "tags": []
   },
   "source": [
    "## Proof of Concept (PoC) Design\n",
    "\n",
    "In this design notebook, instead of realizing a full product, we are drafting a simple ML solution for the PoC.\n",
    "\n",
    "In the PoC, we explore how many images will we need to come out with a reasonable accuracy. In ideal situation, we might be able to only use 1 to 2 images to get the difficulty score.\n",
    "\n",
    "### Feature Generation\n",
    "\n",
    "Using MSCOCO dataset, we select each category, and calculate these data:\n",
    " - Target size ratio (bbox/segmentation)\n",
    " - Number of targets\n",
    " - ResNet Features\n",
    " - After unsupervised decomposition\n",
    "   - Number of color composition\n",
    "   - Color variation across images\n",
    "   - Color difference to nearby background\n",
    "   - Similar color composition and size in the background\n",
    " - Human Impression\n",
    "   - Does the target has multiple color composition (Yes/No)\n",
    "   - Does the target has multiple color variation (Yes/No)\n",
    "   - Can there have multiple targets in an image (Yes/No)\n",
    "   - Is there similar non-target objects in an image (Yes/No)\n",
    " - Target Value\n",
    "   - Classification false positive\n",
    "   - Classification false negative\n",
    "   - Area of Coverage\n",
    "   \n",
    "### Model Evaluation\n",
    "\n",
    " - XGBoost Model\n",
    " - Wide & Deep Neural Network\n",
    "\n"
   ]
  },
  {
   "cell_type": "code",
   "execution_count": null,
   "id": "bb2837fe",
   "metadata": {},
   "outputs": [],
   "source": []
  }
 ],
 "metadata": {
  "kernelspec": {
   "display_name": "conda_python3",
   "language": "python",
   "name": "conda_python3"
  },
  "language_info": {
   "codemirror_mode": {
    "name": "ipython",
    "version": 3
   },
   "file_extension": ".py",
   "mimetype": "text/x-python",
   "name": "python",
   "nbconvert_exporter": "python",
   "pygments_lexer": "ipython3",
   "version": "3.8.12"
  }
 },
 "nbformat": 4,
 "nbformat_minor": 5
}
